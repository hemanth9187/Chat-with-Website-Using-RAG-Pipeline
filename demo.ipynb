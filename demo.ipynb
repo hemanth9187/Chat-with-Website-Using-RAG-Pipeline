{
 "cells": [
  {
   "cell_type": "code",
   "execution_count": 13,
   "metadata": {},
   "outputs": [
    {
     "data": {
      "text/plain": [
       "True"
      ]
     },
     "execution_count": 13,
     "metadata": {},
     "output_type": "execute_result"
    }
   ],
   "source": [
    "# Load the OPENAI KEY from the env.sh file\n",
    "#!pip install langchain==0.1.6 langchain-openai==0.0.5 bs4==0.0.2 html2text==2020.1.16 chromadb==0.4.22 dotenv\n",
    "# Load the OPENAI KEY from the env.sh file\n",
    "# install the necessary modules\n",
    "!pip install langchain==0.1.6 langchain-openai==0.0.5 bs4==0.0.2 html2text==2020.1.16 chromadb==0.4.22 python-dotenv\n",
    "from dotenv import load_dotenv\n",
    "\n",
    "load_dotenv('../env.sh')  # Specify path to your env file"
   ]
  },
  {
   "cell_type": "code",
   "execution_count": 21,
   "metadata": {},
   "outputs": [
    {
     "name": "stdout",
     "output_type": "stream",
     "text": [
      "Collecting langchain==0.1.6\n",
      "  Using cached langchain-0.1.6-py3-none-any.whl.metadata (13 kB)\n",
      "Collecting langchain-openai==0.0.5\n",
      "  Using cached langchain_openai-0.0.5-py3-none-any.whl.metadata (2.5 kB)\n",
      "Collecting bs4==0.0.2\n",
      "  Using cached bs4-0.0.2-py2.py3-none-any.whl.metadata (411 bytes)\n",
      "Collecting html2text==2020.1.16\n",
      "  Using cached html2text-2020.1.16-py3-none-any.whl.metadata (4.3 kB)\n",
      "Collecting chromadb==0.4.22\n",
      "  Using cached chromadb-0.4.22-py3-none-any.whl.metadata (7.3 kB)\n",
      "Collecting PyYAML>=5.3 (from langchain==0.1.6)\n",
      "  Using cached PyYAML-6.0.2-cp313-cp313-win_amd64.whl.metadata (2.1 kB)\n",
      "Collecting SQLAlchemy<3,>=1.4 (from langchain==0.1.6)\n",
      "  Using cached SQLAlchemy-2.0.36-cp313-cp313-win_amd64.whl.metadata (9.9 kB)\n",
      "Collecting aiohttp<4.0.0,>=3.8.3 (from langchain==0.1.6)\n",
      "  Using cached aiohttp-3.11.10-cp313-cp313-win_amd64.whl.metadata (8.0 kB)\n",
      "Collecting dataclasses-json<0.7,>=0.5.7 (from langchain==0.1.6)\n",
      "  Using cached dataclasses_json-0.6.7-py3-none-any.whl.metadata (25 kB)\n",
      "Collecting jsonpatch<2.0,>=1.33 (from langchain==0.1.6)\n",
      "  Using cached jsonpatch-1.33-py2.py3-none-any.whl.metadata (3.0 kB)\n",
      "Collecting langchain-community<0.1,>=0.0.18 (from langchain==0.1.6)\n",
      "  Using cached langchain_community-0.0.38-py3-none-any.whl.metadata (8.7 kB)\n",
      "Collecting langchain-core<0.2,>=0.1.22 (from langchain==0.1.6)\n",
      "  Using cached langchain_core-0.1.53-py3-none-any.whl.metadata (5.9 kB)\n",
      "Collecting langsmith<0.1,>=0.0.83 (from langchain==0.1.6)\n",
      "  Using cached langsmith-0.0.92-py3-none-any.whl.metadata (9.9 kB)\n",
      "Collecting numpy<2,>=1 (from langchain==0.1.6)\n",
      "  Using cached numpy-1.26.4.tar.gz (15.8 MB)\n",
      "  Installing build dependencies: started\n",
      "  Installing build dependencies: finished with status 'done'\n",
      "  Getting requirements to build wheel: started\n",
      "  Getting requirements to build wheel: finished with status 'done'\n",
      "  Installing backend dependencies: started\n",
      "  Installing backend dependencies: finished with status 'done'\n",
      "  Preparing metadata (pyproject.toml): started\n",
      "  Preparing metadata (pyproject.toml): finished with status 'error'\n"
     ]
    },
    {
     "name": "stderr",
     "output_type": "stream",
     "text": [
      "  error: subprocess-exited-with-error\n",
      "  \n",
      "  × Preparing metadata (pyproject.toml) did not run successfully.\n",
      "  │ exit code: 1\n",
      "  ╰─> [21 lines of output]\n",
      "      + C:\\Users\\sathy\\Downloads\\RAG-Chatbot-from-web-data-master\\RAG-Chatbot-from-web-data-master\\venv\\Scripts\\python.exe C:\\Users\\sathy\\AppData\\Local\\Temp\\pip-install-hyv4epyc\\numpy_9eb28834274a4df394c9692bca04e62c\\vendored-meson\\meson\\meson.py setup C:\\Users\\sathy\\AppData\\Local\\Temp\\pip-install-hyv4epyc\\numpy_9eb28834274a4df394c9692bca04e62c C:\\Users\\sathy\\AppData\\Local\\Temp\\pip-install-hyv4epyc\\numpy_9eb28834274a4df394c9692bca04e62c\\.mesonpy-tvkcze9_ -Dbuildtype=release -Db_ndebug=if-release -Db_vscrt=md --native-file=C:\\Users\\sathy\\AppData\\Local\\Temp\\pip-install-hyv4epyc\\numpy_9eb28834274a4df394c9692bca04e62c\\.mesonpy-tvkcze9_\\meson-python-native-file.ini\n",
      "      The Meson build system\n",
      "      Version: 1.2.99\n",
      "      Source dir: C:\\Users\\sathy\\AppData\\Local\\Temp\\pip-install-hyv4epyc\\numpy_9eb28834274a4df394c9692bca04e62c\n",
      "      Build dir: C:\\Users\\sathy\\AppData\\Local\\Temp\\pip-install-hyv4epyc\\numpy_9eb28834274a4df394c9692bca04e62c\\.mesonpy-tvkcze9_\n",
      "      Build type: native build\n",
      "      Project name: NumPy\n",
      "      Project version: 1.26.4\n",
      "      WARNING: Failed to activate VS environment: Could not find C:\\Program Files (x86)\\Microsoft Visual Studio\\Installer\\vswhere.exe\n",
      "      \n",
      "      ..\\meson.build:1:0: ERROR: Unknown compiler(s): [['icl'], ['cl'], ['cc'], ['gcc'], ['clang'], ['clang-cl'], ['pgcc']]\n",
      "      The following exception(s) were encountered:\n",
      "      Running `icl \"\"` gave \"[WinError 2] The system cannot find the file specified\"\n",
      "      Running `cl /?` gave \"[WinError 2] The system cannot find the file specified\"\n",
      "      Running `cc --version` gave \"[WinError 2] The system cannot find the file specified\"\n",
      "      Running `gcc --version` gave \"[WinError 2] The system cannot find the file specified\"\n",
      "      Running `clang --version` gave \"[WinError 2] The system cannot find the file specified\"\n",
      "      Running `clang-cl /?` gave \"[WinError 2] The system cannot find the file specified\"\n",
      "      Running `pgcc --version` gave \"[WinError 2] The system cannot find the file specified\"\n",
      "      \n",
      "      A full log can be found at C:\\Users\\sathy\\AppData\\Local\\Temp\\pip-install-hyv4epyc\\numpy_9eb28834274a4df394c9692bca04e62c\\.mesonpy-tvkcze9_\\meson-logs\\meson-log.txt\n",
      "      [end of output]\n",
      "  \n",
      "  note: This error originates from a subprocess, and is likely not a problem with pip.\n",
      "error: metadata-generation-failed\n",
      "\n",
      "× Encountered error while generating package metadata.\n",
      "╰─> See above for output.\n",
      "\n",
      "note: This is an issue with the package mentioned above, not pip.\n",
      "hint: See above for details.\n"
     ]
    },
    {
     "ename": "ModuleNotFoundError",
     "evalue": "No module named 'langchain_openai'",
     "output_type": "error",
     "traceback": [
      "\u001b[1;31m---------------------------------------------------------------------------\u001b[0m",
      "\u001b[1;31mModuleNotFoundError\u001b[0m                       Traceback (most recent call last)",
      "Cell \u001b[1;32mIn[21], line 3\u001b[0m\n\u001b[0;32m      1\u001b[0m \u001b[38;5;66;03m# Import chatbot functions\u001b[39;00m\n\u001b[0;32m      2\u001b[0m get_ipython()\u001b[38;5;241m.\u001b[39msystem(\u001b[38;5;124m'\u001b[39m\u001b[38;5;124mpip install langchain==0.1.6 langchain-openai==0.0.5 bs4==0.0.2 html2text==2020.1.16 chromadb==0.4.22\u001b[39m\u001b[38;5;124m'\u001b[39m)\n\u001b[1;32m----> 3\u001b[0m \u001b[38;5;28;01mfrom\u001b[39;00m \u001b[38;5;21;01mutils\u001b[39;00m \u001b[38;5;28;01mimport\u001b[39;00m store_docs, get_response, get_chroma_client\n",
      "File \u001b[1;32mc:\\Users\\sathy\\Downloads\\RAG-Chatbot-from-web-data-master\\RAG-Chatbot-from-web-data-master\\chatbot\\utils.py:1\u001b[0m\n\u001b[1;32m----> 1\u001b[0m \u001b[38;5;28;01mfrom\u001b[39;00m \u001b[38;5;21;01mlangchain_openai\u001b[39;00m \u001b[38;5;28;01mimport\u001b[39;00m ChatOpenAI\n\u001b[0;32m      2\u001b[0m \u001b[38;5;28;01mfrom\u001b[39;00m \u001b[38;5;21;01mlangchain_community\u001b[39;00m\u001b[38;5;21;01m.\u001b[39;00m\u001b[38;5;21;01mvectorstores\u001b[39;00m \u001b[38;5;28;01mimport\u001b[39;00m Chroma\n\u001b[0;32m      3\u001b[0m \u001b[38;5;28;01mfrom\u001b[39;00m \u001b[38;5;21;01mlangchain_openai\u001b[39;00m \u001b[38;5;28;01mimport\u001b[39;00m OpenAIEmbeddings\n",
      "\u001b[1;31mModuleNotFoundError\u001b[0m: No module named 'langchain_openai'"
     ]
    }
   ],
   "source": [
    "# Import chatbot functions\n",
    "!pip install langchain==0.1.6 langchain-openai==0.0.5 bs4==0.0.2 html2text==2020.1.16 chromadb==0.4.22\n",
    "from utils import store_docs, get_response, get_chroma_client"
   ]
  },
  {
   "cell_type": "code",
   "execution_count": 15,
   "metadata": {},
   "outputs": [
    {
     "ename": "NameError",
     "evalue": "name 'store_docs' is not defined",
     "output_type": "error",
     "traceback": [
      "\u001b[1;31m---------------------------------------------------------------------------\u001b[0m",
      "\u001b[1;31mNameError\u001b[0m                                 Traceback (most recent call last)",
      "Cell \u001b[1;32mIn[15], line 4\u001b[0m\n\u001b[0;32m      1\u001b[0m \u001b[38;5;66;03m# Storing webpage content into vector store\u001b[39;00m\n\u001b[0;32m      2\u001b[0m \u001b[38;5;66;03m# Make sure not to store the same documents twice\u001b[39;00m\n\u001b[1;32m----> 4\u001b[0m \u001b[43mstore_docs\u001b[49m(\u001b[38;5;124m\"\u001b[39m\u001b[38;5;124mhttps://cloudxlab.com/course/204/certificate-course-on-generative-ai\u001b[39m\u001b[38;5;124m\"\u001b[39m)\n",
      "\u001b[1;31mNameError\u001b[0m: name 'store_docs' is not defined"
     ]
    }
   ],
   "source": [
    "# Storing webpage content into vector store\n",
    "# Make sure not to store the same documents twice\n",
    "\n",
    "store_docs(\"https://cloudxlab.com/course/204/certificate-course-on-generative-ai\")"
   ]
  },
  {
   "cell_type": "code",
   "execution_count": 16,
   "metadata": {},
   "outputs": [
    {
     "ename": "NameError",
     "evalue": "name 'get_chroma_client' is not defined",
     "output_type": "error",
     "traceback": [
      "\u001b[1;31m---------------------------------------------------------------------------\u001b[0m",
      "\u001b[1;31mNameError\u001b[0m                                 Traceback (most recent call last)",
      "Cell \u001b[1;32mIn[16], line 3\u001b[0m\n\u001b[0;32m      1\u001b[0m \u001b[38;5;66;03m# Seeing how the data looks like in the vector store\u001b[39;00m\n\u001b[1;32m----> 3\u001b[0m vector_store \u001b[38;5;241m=\u001b[39m \u001b[43mget_chroma_client\u001b[49m()\n\u001b[0;32m      4\u001b[0m lis \u001b[38;5;241m=\u001b[39m vector_store\u001b[38;5;241m.\u001b[39mget(include\u001b[38;5;241m=\u001b[39m[\u001b[38;5;124m'\u001b[39m\u001b[38;5;124membeddings\u001b[39m\u001b[38;5;124m'\u001b[39m,\u001b[38;5;124m'\u001b[39m\u001b[38;5;124mmetadatas\u001b[39m\u001b[38;5;124m'\u001b[39m,\u001b[38;5;124m'\u001b[39m\u001b[38;5;124mdocuments\u001b[39m\u001b[38;5;124m'\u001b[39m])\n\u001b[0;32m      5\u001b[0m \u001b[38;5;28mprint\u001b[39m(\u001b[38;5;124m\"\u001b[39m\u001b[38;5;124mNumber of documents:\u001b[39m\u001b[38;5;124m\"\u001b[39m,\u001b[38;5;28mlen\u001b[39m(lis[\u001b[38;5;124m'\u001b[39m\u001b[38;5;124mdocuments\u001b[39m\u001b[38;5;124m'\u001b[39m]))\n",
      "\u001b[1;31mNameError\u001b[0m: name 'get_chroma_client' is not defined"
     ]
    }
   ],
   "source": [
    "# Seeing how the data looks like in the vector store\n",
    "\n",
    "vector_store = get_chroma_client()\n",
    "lis = vector_store.get(include=['embeddings','metadatas','documents'])\n",
    "print(\"Number of documents:\",len(lis['documents']))\n",
    "print(\"Content:\\n\",lis['documents'][1])\n",
    "print(\"\\n\\nMetadata:\", lis['metadatas'][1])\n",
    "print(\"\\n\\nEmbeddings:\", \"Length:\", len(lis['embeddings'][1]),\"\\nEmbedding Vector:\",lis['embeddings'][1])"
   ]
  },
  {
   "cell_type": "code",
   "execution_count": 5,
   "metadata": {},
   "outputs": [],
   "source": [
    "# Setting up organization information\n",
    "\n",
    "organization_name = \"CloudxLab\"\n",
    "organization_info = \"Cloudxlab is known for providing courses on several technologies such as Machine Learning, Big Data, Deep Learning, Artificial Intelligence, DevOps, MLOps, etc. It's main perk is the gamified cloud lab where users can practice all the tools related to the mentioned technologies which are pre-installed in parallel to learning.\"\n",
    "contact_info = \"\"\"Email: reachus@cloudxlab.com \n",
    "India Phone: +9108049202224\n",
    "International Phone: +1 (412) 568-3901.\n",
    "Raise a query: https://cloudxlab.com/reach-us-queries\n",
    "Forum: https://discuss.cloudxlab.com/\"\"\""
   ]
  },
  {
   "cell_type": "code",
   "execution_count": 6,
   "metadata": {},
   "outputs": [
    {
     "name": "stderr",
     "output_type": "stream",
     "text": [
      "/Users/shubhtripathi/website_data_chatbot/venv/lib/python3.10/site-packages/langchain_core/_api/deprecation.py:117: LangChainDeprecationWarning: The function `__call__` was deprecated in LangChain 0.1.0 and will be removed in 0.2.0. Use invoke instead.\n",
      "  warn_deprecated(\n",
      "Number of requested results 20 is greater than number of elements in index 9, updating n_results = 9\n"
     ]
    },
    {
     "name": "stdout",
     "output_type": "stream",
     "text": [
      "\n",
      "\n",
      "\u001b[1m> Entering new StuffDocumentsChain chain...\u001b[0m\n",
      "\n",
      "\n",
      "\u001b[1m> Entering new LLMChain chain...\u001b[0m\n",
      "Prompt after formatting:\n",
      "\u001b[32;1m\u001b[1;3mSystem: You are an expert support agent at CloudxLab. Cloudxlab is known for providing courses on several technologies such as Machine Learning, Big Data, Deep Learning, Artificial Intelligence, DevOps, MLOps, etc. It's main perk is the gamified cloud lab where users can practice all the tools related to the mentioned technologies which are pre-installed in parallel to learning.\n",
      "\n",
      "Your task is to answer customer queries related to CloudxLab. You should always talk good about CloudxLab and show it is the best in the industry and the customer is doing the best job in his/her life by purchasing it's product. You should never talk about any other company/website/resources/books/tools or any product which is not related to CloudxLab. You should always promote the CloudxLab's products. If you don't know any answer, don't try to make up an answer. Just say that you don't know and to contact the company support.\n",
      "The ways to contact company support is: Email: reachus@cloudxlab.com \n",
      "India Phone: +9108049202224\n",
      "International Phone: +1 (412) 568-3901.\n",
      "Raise a query: https://cloudxlab.com/reach-us-queries\n",
      "Forum: https://discuss.cloudxlab.com/.\n",
      "Don't be overconfident and don't hallucinate. Ask follow up questions if necessary or if there are several offering related to the user's query. Provide answer with complete details in a proper formatted manner with working links and resources  wherever applicable within the company's website. Never provide wrong links.\n",
      "\n",
      "\n",
      "Use the following pieces of context to answer the user's question.\n",
      "\n",
      "----------------\n",
      "\n",
      "to 36 LPA in AI roles High demands in Tech, Finance, E-Commerce, Healthcare Highly transferable mainstream skills ## Program Highlights #### Key Highlights __2+ Months of Blended Training __60 Days of Lab access __10+ Real-world Projects __24*7 Support __Placement assistance __Lifetime Access to Course Material __Doubt clearing all weekdays __Scholarships available __Expert Guidance Throughout __Certificate from CloudxLab __Latest AI Trends Incorporated in Curriculum __30+ Tools and Technologies covered __Hands-on experience in cloud labs __Interactive Learning for Rapid Mastery ### Book Counselling Session [Submit]() __ Successfully submitted. __ Please check all the fields. ### Application Deadline 28 February 2024 Apply Now (Few Seats Left) __ Request a Callback __ ## Our Students Work At #### and more! ## Certificate ### What is the certificate like? [ Gen Ai Course Certificate ](https://cxl-web-prod-uploads.s3.amazonaws.com/public/filestore-uploads/c4abd0ecbc9e92cd80bffde8a15ceecd635df545.png) **Course Completion Certificate** \\- It is obtained by meeting the minimum certificate criteria   * #### About Cloudxlab Cloudxlab is a team of developers, researchers, and educators who build innovative products and create enriching learning experiences for users. Cloudxlab upskills engineers in deep tech to make them employable & future-ready.    * Get This Certificate\n",
      "\n",
      "## Programming Languages and Tools #### and more! ## Hands-on Learning   * ##### Gamified Learning Platform Making learning fun and sustainable    \n",
      "  * ##### Auto-assessment Tests Learn by writing code and executing it on lab   \n",
      "  * ##### No Installation Required Lab comes pre-installed softwares and accessible everywhere   \n",
      "  * ##### Accessibility Access the lab anywhere, anytime with an internet connection\n",
      "\n",
      "## Mentors / Faculty #### Sandeep Giri Founder at CloudxLab Past: Amazon, InMobi, D.E.Shaw [__](https://www.linkedin.com/in/girisandeep/)[ ](/p/sandeep-giri-b4v1r1v6/) #### Venkat Karun Staff Software Engineer Google [__](https://www.linkedin.com/in/venkat-karun-137b8515/) #### Shubh Tripathi ML Engineer at ClodudxLab [__](https://www.linkedin.com/in/shubh--tripathi/) ## Curriculum ####  1\\. Python for Generative AI (Self-paced)      1\\. Introduction to Python  Preview  2\\. Hands-on using Jupyter on CloudxLab 2\\. Machine Learning Applications & Landscape (Self-paced)      1\\. Introduction to Machine Learning 2\\. Machine Learning Application 3\\. Types of Machine Learning algorithms - Supervised, Unsupervised 3\\. Building end-to-end Machine Learning Project      1\\. Frame the problem and look at the big picture 2\\. Get the data 3\\. Explore the data to gain insights 4\\. Prepare the data for Machine Learning algorithms 5\\. Explore many different models and short-list the best ones 6\\. Present the solution, Launch, monitor, and maintain the system 4\\. How does a Machine Learn?      1\\. Introduction to Neural Networks 2\\. Working of Neural Networks 5\\. Introduction to Natural Language Processing      1\\. How model generates word 2\\. Applications of Natural Language Processing 6\\. Word Embeddings      1\\. How machines represent words? 2\\. Significance of embeddings 3\\. Similarity measures of embeddings 4\\. Sentiment Analysis with LLMs – Live Project 7\\. Generative Pre-trained Transformer(GPT)      1\\. Attention Mechanism 2\\. Transformer Architecture and components 3\\. Transfer Learning 4\\. Building your own GPT from scratch using Tensorflow – Live Project 8\\. OpenAI ChatGPT      1\\. Introduction to ChatGPT 2\\. ChatGPT Architecture and Training 9\\. Prompt Engineering      1\\. Art of Prompt Engineering 10\\. Vector Databases      1\\. Introduction to Vector Databases 2\\. Architecture of Vector Databases 3\\. Indexing Techniques 4\\. Distance Metrics and Similarity Measures 5\\. Nearest Neighbor Search 6\\. Open Source Vector\n",
      "\n",
      "3\\. Indexing Techniques 4\\. Distance Metrics and Similarity Measures 5\\. Nearest Neighbor Search 6\\. Open Source Vector Databases:- Chroma and Milvus 11\\. Langchain      1\\. Introduction to Langchain 2\\. The building blocks of LangChain:- Prompt, Chains, Retrievers, Parsers, Memory and Agents 3\\. Building a RAG based chat agent – Live Project 4\\. Building a Text to SQL query generator – Live Project 5\\. Building a RAG based chat agent web app using Flask – Project 12\\. Stable Diffusion (Self-paced)      1\\. Introduction to Stable Diffusion 2\\. Stable Diffusion Components 3\\. Diffusion Model 4\\. Stable Diffusion Architecture and Training 13\\. Gen AI with APIs      1\\. Hands-on with commonly used Gen AI APIs such as GPT, DALL-E, Whisper, Midjourney, etc. 2\\. Developing a Voice-Controlled RAG Chat Agent App – Live Project 3\\. Group mobile app reviews to generate clean actionable insights using GPT– Live Project 4\\. Building an OpenAI agent to automate tasks – Live Project 5\\. Building a QR Code AI Art Generator – Live Project 6\\. Building an image editor to edit images using text – Live Project 14\\. Use of Common AI tools for automating daily tasks 2\\+  ##### Months of Blended Training 60 ##### Days of Lab Access 10\\+  ##### Projects 2.7K+  ##### Learners [Download Curriculum  ]() ## Projects #### Project 1.   Building end-to-end Machine Learning Project #### Project 2.    Performing Sentiment Analysis with LLMs #### Project 3.   Building your own GPT from scratch using Tensorflow #### Project 4.   Building a RAG based chat agent with Langchain and OpenAI #### Project 5.    Building a RAG based chat agent web app using Flask #### Project 6.   Building a Text to SQL Query Generator using Langchain #### Project 7.    Developing a Voice-Controlled RAG Chat Agent App #### Project 8.    Group mobile app reviews to generate clean actionable insights #### Project 9.    Building an OpenAI agent to automate daily tasks #### Project 10.    Building a QR Code AI Art Generator  #### Project 11.    Building an image editor to\n",
      "\n",
      "Follow up question: \n",
      "Human: What is the duration of this course\n",
      "Helpful Answer:\u001b[0m\n",
      "\n",
      "\u001b[1m> Finished chain.\u001b[0m\n",
      "\n",
      "\u001b[1m> Finished chain.\u001b[0m\n",
      "Answer: The duration of the course is 2+ months of blended training. It includes 60 days of lab access, allowing you to practice and apply your skills. During this time, you will work on 10+ real-world projects to gain hands-on experience. The course is designed to provide comprehensive training and support, with 24*7 assistance and doubt clearing on all weekdays. You will also receive lifetime access to the course material, ensuring that you can refer back to it whenever you need.\n"
     ]
    }
   ],
   "source": [
    "# Get response\n",
    "\n",
    "response = get_response(\"What is the duration of this course\", organization_name, organization_info, contact_info)\n",
    "print(\"Answer:\", response)\n"
   ]
  },
  {
   "cell_type": "code",
   "execution_count": 7,
   "metadata": {},
   "outputs": [
    {
     "name": "stderr",
     "output_type": "stream",
     "text": [
      "Number of requested results 20 is greater than number of elements in index 9, updating n_results = 9\n"
     ]
    },
    {
     "name": "stdout",
     "output_type": "stream",
     "text": [
      "\n",
      "\n",
      "\u001b[1m> Entering new StuffDocumentsChain chain...\u001b[0m\n",
      "\n",
      "\n",
      "\u001b[1m> Entering new LLMChain chain...\u001b[0m\n",
      "Prompt after formatting:\n",
      "\u001b[32;1m\u001b[1;3mSystem: You are an expert support agent at CloudxLab. Cloudxlab is known for providing courses on several technologies such as Machine Learning, Big Data, Deep Learning, Artificial Intelligence, DevOps, MLOps, etc. It's main perk is the gamified cloud lab where users can practice all the tools related to the mentioned technologies which are pre-installed in parallel to learning.\n",
      "\n",
      "Your task is to answer customer queries related to CloudxLab. You should always talk good about CloudxLab and show it is the best in the industry and the customer is doing the best job in his/her life by purchasing it's product. You should never talk about any other company/website/resources/books/tools or any product which is not related to CloudxLab. You should always promote the CloudxLab's products. If you don't know any answer, don't try to make up an answer. Just say that you don't know and to contact the company support.\n",
      "The ways to contact company support is: Email: reachus@cloudxlab.com \n",
      "India Phone: +9108049202224\n",
      "International Phone: +1 (412) 568-3901.\n",
      "Raise a query: https://cloudxlab.com/reach-us-queries\n",
      "Forum: https://discuss.cloudxlab.com/.\n",
      "Don't be overconfident and don't hallucinate. Ask follow up questions if necessary or if there are several offering related to the user's query. Provide answer with complete details in a proper formatted manner with working links and resources  wherever applicable within the company's website. Never provide wrong links.\n",
      "\n",
      "\n",
      "Use the following pieces of context to answer the user's question.\n",
      "\n",
      "----------------\n",
      "\n",
      "## Mentors / Faculty #### Sandeep Giri Founder at CloudxLab Past: Amazon, InMobi, D.E.Shaw [__](https://www.linkedin.com/in/girisandeep/)[ ](/p/sandeep-giri-b4v1r1v6/) #### Venkat Karun Staff Software Engineer Google [__](https://www.linkedin.com/in/venkat-karun-137b8515/) #### Shubh Tripathi ML Engineer at ClodudxLab [__](https://www.linkedin.com/in/shubh--tripathi/) ## Curriculum ####  1\\. Python for Generative AI (Self-paced)      1\\. Introduction to Python  Preview  2\\. Hands-on using Jupyter on CloudxLab 2\\. Machine Learning Applications & Landscape (Self-paced)      1\\. Introduction to Machine Learning 2\\. Machine Learning Application 3\\. Types of Machine Learning algorithms - Supervised, Unsupervised 3\\. Building end-to-end Machine Learning Project      1\\. Frame the problem and look at the big picture 2\\. Get the data 3\\. Explore the data to gain insights 4\\. Prepare the data for Machine Learning algorithms 5\\. Explore many different models and short-list the best ones 6\\. Present the solution, Launch, monitor, and maintain the system 4\\. How does a Machine Learn?      1\\. Introduction to Neural Networks 2\\. Working of Neural Networks 5\\. Introduction to Natural Language Processing      1\\. How model generates word 2\\. Applications of Natural Language Processing 6\\. Word Embeddings      1\\. How machines represent words? 2\\. Significance of embeddings 3\\. Similarity measures of embeddings 4\\. Sentiment Analysis with LLMs – Live Project 7\\. Generative Pre-trained Transformer(GPT)      1\\. Attention Mechanism 2\\. Transformer Architecture and components 3\\. Transfer Learning 4\\. Building your own GPT from scratch using Tensorflow – Live Project 8\\. OpenAI ChatGPT      1\\. Introduction to ChatGPT 2\\. ChatGPT Architecture and Training 9\\. Prompt Engineering      1\\. Art of Prompt Engineering 10\\. Vector Databases      1\\. Introduction to Vector Databases 2\\. Architecture of Vector Databases 3\\. Indexing Techniques 4\\. Distance Metrics and Similarity Measures 5\\. Nearest Neighbor Search 6\\. Open Source Vector\n",
      "\n",
      "## Programming Languages and Tools #### and more! ## Hands-on Learning   * ##### Gamified Learning Platform Making learning fun and sustainable    \n",
      "  * ##### Auto-assessment Tests Learn by writing code and executing it on lab   \n",
      "  * ##### No Installation Required Lab comes pre-installed softwares and accessible everywhere   \n",
      "  * ##### Accessibility Access the lab anywhere, anytime with an internet connection\n",
      "\n",
      "* [ Contact Us ](/reach-us-queries)\n",
      "  * [ Privacy Policy ](/privacy-policy)\n",
      "  * [ Terms of Use ](/terms-of-use)\n",
      "  * [ Cookie Policy ](/cookie-policy)\n",
      "#####  Partner With Us   * [ Become an Affiliate ](/affiliate/program)\n",
      "  * [ Use CloudxLab as an Instructor ](/become-instructor/)\n",
      "  * [ Schedule A Demo ](/schedule-demo)\n",
      "  * [ Refer a friend ](/refer-friend/)\n",
      "#####  Learn   * [ Guided Projects ](/projects)\n",
      "  * [ Courses ](/course/all/)\n",
      "  * [ Lab ](/lab/)\n",
      "  * [ Events ]()\n",
      "  * [ BootML ](/bootml/)\n",
      "#####  Jobs   * [ Current Jobs ](/jobs/)\n",
      "  * [ Post a Job ](/reach-us-queries?mid=pj)\n",
      "#####  Resources   * [ Forum ](https://discuss.cloudxlab.com)\n",
      "  * [ Blog ](//cloudxlab.com/blog/)\n",
      "  * [ Tech FAQs ](/faq/support)\n",
      "#####  For Businesses   * [ Consulting ](/business#contact)\n",
      "  * [ Cloud Platform ](/business#demo)\n",
      "  * [ LMS Integration ](/business#about)\n",
      "All rights reserved © 2024 CloudxLab, Inc. | Issimo Technology Private Limited    * [ __](https://twitter.com/CloudxLab)   * [ __](https://www.facebook.com/cloudxlab)   * [ __](https://www.youtube.com/channel/UC8mJ6DL1Q32UWyJUceoO8Jw)   * [ __](https://www.instagram.com/cloudxlab)   * [ __](https://www.linkedin.com/company/cloudxlab/)\n",
      "__ [ __](https://api.whatsapp.com/send?phone=918049202224&text=Hello, Can i have a chat with counsellor?)\n",
      "\n",
      "3\\. Indexing Techniques 4\\. Distance Metrics and Similarity Measures 5\\. Nearest Neighbor Search 6\\. Open Source Vector Databases:- Chroma and Milvus 11\\. Langchain      1\\. Introduction to Langchain 2\\. The building blocks of LangChain:- Prompt, Chains, Retrievers, Parsers, Memory and Agents 3\\. Building a RAG based chat agent – Live Project 4\\. Building a Text to SQL query generator – Live Project 5\\. Building a RAG based chat agent web app using Flask – Project 12\\. Stable Diffusion (Self-paced)      1\\. Introduction to Stable Diffusion 2\\. Stable Diffusion Components 3\\. Diffusion Model 4\\. Stable Diffusion Architecture and Training 13\\. Gen AI with APIs      1\\. Hands-on with commonly used Gen AI APIs such as GPT, DALL-E, Whisper, Midjourney, etc. 2\\. Developing a Voice-Controlled RAG Chat Agent App – Live Project 3\\. Group mobile app reviews to generate clean actionable insights using GPT– Live Project 4\\. Building an OpenAI agent to automate tasks – Live Project 5\\. Building a QR Code AI Art Generator – Live Project 6\\. Building an image editor to edit images using text – Live Project 14\\. Use of Common AI tools for automating daily tasks 2\\+  ##### Months of Blended Training 60 ##### Days of Lab Access 10\\+  ##### Projects 2.7K+  ##### Learners [Download Curriculum  ]() ## Projects #### Project 1.   Building end-to-end Machine Learning Project #### Project 2.    Performing Sentiment Analysis with LLMs #### Project 3.   Building your own GPT from scratch using Tensorflow #### Project 4.   Building a RAG based chat agent with Langchain and OpenAI #### Project 5.    Building a RAG based chat agent web app using Flask #### Project 6.   Building a Text to SQL Query Generator using Langchain #### Project 7.    Developing a Voice-Controlled RAG Chat Agent App #### Project 8.    Group mobile app reviews to generate clean actionable insights #### Project 9.    Building an OpenAI agent to automate daily tasks #### Project 10.    Building a QR Code AI Art Generator  #### Project 11.    Building an image editor to\n",
      "\n",
      "Follow up question: \n",
      "Human: Who are the instructors?\n",
      "Helpful Answer:\u001b[0m\n",
      "\n",
      "\u001b[1m> Finished chain.\u001b[0m\n",
      "\n",
      "\u001b[1m> Finished chain.\u001b[0m\n",
      "Answer: The instructors at CloudxLab are highly experienced professionals in their respective fields. Some of the instructors are:\n",
      "\n",
      "1. Sandeep Giri: Sandeep Giri is the Founder of CloudxLab and has a strong background in technology. He has worked at companies like Amazon, InMobi, and D.E.Shaw. You can find more information about him on his LinkedIn profile [here](https://www.linkedin.com/in/girisandeep/).\n",
      "\n",
      "2. Venkat Karun: Venkat Karun is a Staff Software Engineer at Google. He brings his expertise in software engineering to the courses at CloudxLab. You can find more information about him on his LinkedIn profile [here](https://www.linkedin.com/in/venkat-karun-137b8515/).\n",
      "\n",
      "3. Shubh Tripathi: Shubh Tripathi is a Machine Learning Engineer at CloudxLab. He has a deep understanding of machine learning algorithms and applications. You can find more information about him on his LinkedIn profile [here](https://www.linkedin.com/in/shubh--tripathi/).\n",
      "\n",
      "These instructors, along with other experts, ensure that you receive high-quality training and guidance throughout your learning journey at CloudxLab.\n"
     ]
    }
   ],
   "source": [
    "# Get response\n",
    "\n",
    "response = get_response(\"Who are the instructors?\", organization_name, organization_info, contact_info)\n",
    "print(\"Answer:\", response)\n"
   ]
  },
  {
   "cell_type": "code",
   "execution_count": 8,
   "metadata": {},
   "outputs": [
    {
     "name": "stderr",
     "output_type": "stream",
     "text": [
      "Number of requested results 20 is greater than number of elements in index 9, updating n_results = 9\n"
     ]
    },
    {
     "name": "stdout",
     "output_type": "stream",
     "text": [
      "\n",
      "\n",
      "\u001b[1m> Entering new StuffDocumentsChain chain...\u001b[0m\n",
      "\n",
      "\n",
      "\u001b[1m> Entering new LLMChain chain...\u001b[0m\n",
      "Prompt after formatting:\n",
      "\u001b[32;1m\u001b[1;3mSystem: You are an expert support agent at CloudxLab. Cloudxlab is known for providing courses on several technologies such as Machine Learning, Big Data, Deep Learning, Artificial Intelligence, DevOps, MLOps, etc. It's main perk is the gamified cloud lab where users can practice all the tools related to the mentioned technologies which are pre-installed in parallel to learning.\n",
      "\n",
      "Your task is to answer customer queries related to CloudxLab. You should always talk good about CloudxLab and show it is the best in the industry and the customer is doing the best job in his/her life by purchasing it's product. You should never talk about any other company/website/resources/books/tools or any product which is not related to CloudxLab. You should always promote the CloudxLab's products. If you don't know any answer, don't try to make up an answer. Just say that you don't know and to contact the company support.\n",
      "The ways to contact company support is: Email: reachus@cloudxlab.com \n",
      "India Phone: +9108049202224\n",
      "International Phone: +1 (412) 568-3901.\n",
      "Raise a query: https://cloudxlab.com/reach-us-queries\n",
      "Forum: https://discuss.cloudxlab.com/.\n",
      "Don't be overconfident and don't hallucinate. Ask follow up questions if necessary or if there are several offering related to the user's query. Provide answer with complete details in a proper formatted manner with working links and resources  wherever applicable within the company's website. Never provide wrong links.\n",
      "\n",
      "\n",
      "Use the following pieces of context to answer the user's question.\n",
      "\n",
      "----------------\n",
      "\n",
      "3\\. Indexing Techniques 4\\. Distance Metrics and Similarity Measures 5\\. Nearest Neighbor Search 6\\. Open Source Vector Databases:- Chroma and Milvus 11\\. Langchain      1\\. Introduction to Langchain 2\\. The building blocks of LangChain:- Prompt, Chains, Retrievers, Parsers, Memory and Agents 3\\. Building a RAG based chat agent – Live Project 4\\. Building a Text to SQL query generator – Live Project 5\\. Building a RAG based chat agent web app using Flask – Project 12\\. Stable Diffusion (Self-paced)      1\\. Introduction to Stable Diffusion 2\\. Stable Diffusion Components 3\\. Diffusion Model 4\\. Stable Diffusion Architecture and Training 13\\. Gen AI with APIs      1\\. Hands-on with commonly used Gen AI APIs such as GPT, DALL-E, Whisper, Midjourney, etc. 2\\. Developing a Voice-Controlled RAG Chat Agent App – Live Project 3\\. Group mobile app reviews to generate clean actionable insights using GPT– Live Project 4\\. Building an OpenAI agent to automate tasks – Live Project 5\\. Building a QR Code AI Art Generator – Live Project 6\\. Building an image editor to edit images using text – Live Project 14\\. Use of Common AI tools for automating daily tasks 2\\+  ##### Months of Blended Training 60 ##### Days of Lab Access 10\\+  ##### Projects 2.7K+  ##### Learners [Download Curriculum  ]() ## Projects #### Project 1.   Building end-to-end Machine Learning Project #### Project 2.    Performing Sentiment Analysis with LLMs #### Project 3.   Building your own GPT from scratch using Tensorflow #### Project 4.   Building a RAG based chat agent with Langchain and OpenAI #### Project 5.    Building a RAG based chat agent web app using Flask #### Project 6.   Building a Text to SQL Query Generator using Langchain #### Project 7.    Developing a Voice-Controlled RAG Chat Agent App #### Project 8.    Group mobile app reviews to generate clean actionable insights #### Project 9.    Building an OpenAI agent to automate daily tasks #### Project 10.    Building a QR Code AI Art Generator  #### Project 11.    Building an image editor to\n",
      "\n",
      "× ### Request a Call Back Name:  Email:  Phone:  I agree to be contacted over phone  Submit  __ Please check all the fields. [ __ 🇮🇳 080-4920-2224 ](tel:91-804-920-2224) [ __ Request a call back ]() [ __ reachus@cloudxlab.com ](mailto:reachus@cloudxlab.com) PG Certificate Course in Data Science, AI & Machine Learning by IIT Roorkee. Apply Now & Get up to Rs. 25,000 OFF! Offer Ends in: [ Apply Now ](https://cloudxlab.com/course/188/pg-certificate-program-in-data-science-ai-by-cec-iit-roorkee) [ cloudxlab-logo ](/home)   * [Home](/home)   * Instructors   * Curriculum   * Projects   * Testimonials   * FAQ's   * Apply Now\n",
      "\n",
      "## Mentors / Faculty #### Sandeep Giri Founder at CloudxLab Past: Amazon, InMobi, D.E.Shaw [__](https://www.linkedin.com/in/girisandeep/)[ ](/p/sandeep-giri-b4v1r1v6/) #### Venkat Karun Staff Software Engineer Google [__](https://www.linkedin.com/in/venkat-karun-137b8515/) #### Shubh Tripathi ML Engineer at ClodudxLab [__](https://www.linkedin.com/in/shubh--tripathi/) ## Curriculum ####  1\\. Python for Generative AI (Self-paced)      1\\. Introduction to Python  Preview  2\\. Hands-on using Jupyter on CloudxLab 2\\. Machine Learning Applications & Landscape (Self-paced)      1\\. Introduction to Machine Learning 2\\. Machine Learning Application 3\\. Types of Machine Learning algorithms - Supervised, Unsupervised 3\\. Building end-to-end Machine Learning Project      1\\. Frame the problem and look at the big picture 2\\. Get the data 3\\. Explore the data to gain insights 4\\. Prepare the data for Machine Learning algorithms 5\\. Explore many different models and short-list the best ones 6\\. Present the solution, Launch, monitor, and maintain the system 4\\. How does a Machine Learn?      1\\. Introduction to Neural Networks 2\\. Working of Neural Networks 5\\. Introduction to Natural Language Processing      1\\. How model generates word 2\\. Applications of Natural Language Processing 6\\. Word Embeddings      1\\. How machines represent words? 2\\. Significance of embeddings 3\\. Similarity measures of embeddings 4\\. Sentiment Analysis with LLMs – Live Project 7\\. Generative Pre-trained Transformer(GPT)      1\\. Attention Mechanism 2\\. Transformer Architecture and components 3\\. Transfer Learning 4\\. Building your own GPT from scratch using Tensorflow – Live Project 8\\. OpenAI ChatGPT      1\\. Introduction to ChatGPT 2\\. ChatGPT Architecture and Training 9\\. Prompt Engineering      1\\. Art of Prompt Engineering 10\\. Vector Databases      1\\. Introduction to Vector Databases 2\\. Architecture of Vector Databases 3\\. Indexing Techniques 4\\. Distance Metrics and Similarity Measures 5\\. Nearest Neighbor Search 6\\. Open Source Vector\n",
      "\n",
      "## Programming Languages and Tools #### and more! ## Hands-on Learning   * ##### Gamified Learning Platform Making learning fun and sustainable    \n",
      "  * ##### Auto-assessment Tests Learn by writing code and executing it on lab   \n",
      "  * ##### No Installation Required Lab comes pre-installed softwares and accessible everywhere   \n",
      "  * ##### Accessibility Access the lab anywhere, anytime with an internet connection\n",
      "\n",
      "Follow up question: \n",
      "Human: Will this course cover RAG?\n",
      "Helpful Answer:\u001b[0m\n",
      "\n",
      "\u001b[1m> Finished chain.\u001b[0m\n",
      "\n",
      "\u001b[1m> Finished chain.\u001b[0m\n",
      "Answer: Yes, this course covers RAG (Retrieval-Augmented Generation) as one of its topics. RAG is a powerful framework that combines retrieval-based models and language generation models to improve the quality of generated responses in chatbots. In this course, you will learn about the building blocks of RAG, such as prompts, chains, retrievers, parsers, memory, and agents. You will also work on a live project to build a RAG-based chat agent using Langchain and OpenAI. This project will give you hands-on experience in implementing RAG and understanding its practical applications.\n"
     ]
    }
   ],
   "source": [
    "# Get response\n",
    "\n",
    "response = get_response(\"Will this course cover RAG?\", organization_name, organization_info, contact_info)\n",
    "print(\"Answer:\", response)\n"
   ]
  },
  {
   "cell_type": "code",
   "execution_count": 9,
   "metadata": {},
   "outputs": [
    {
     "name": "stderr",
     "output_type": "stream",
     "text": [
      "Number of requested results 20 is greater than number of elements in index 9, updating n_results = 9\n"
     ]
    },
    {
     "name": "stdout",
     "output_type": "stream",
     "text": [
      "\n",
      "\n",
      "\u001b[1m> Entering new StuffDocumentsChain chain...\u001b[0m\n",
      "\n",
      "\n",
      "\u001b[1m> Entering new LLMChain chain...\u001b[0m\n",
      "Prompt after formatting:\n",
      "\u001b[32;1m\u001b[1;3mSystem: You are an expert support agent at CloudxLab. Cloudxlab is known for providing courses on several technologies such as Machine Learning, Big Data, Deep Learning, Artificial Intelligence, DevOps, MLOps, etc. It's main perk is the gamified cloud lab where users can practice all the tools related to the mentioned technologies which are pre-installed in parallel to learning.\n",
      "\n",
      "Your task is to answer customer queries related to CloudxLab. You should always talk good about CloudxLab and show it is the best in the industry and the customer is doing the best job in his/her life by purchasing it's product. You should never talk about any other company/website/resources/books/tools or any product which is not related to CloudxLab. You should always promote the CloudxLab's products. If you don't know any answer, don't try to make up an answer. Just say that you don't know and to contact the company support.\n",
      "The ways to contact company support is: Email: reachus@cloudxlab.com \n",
      "India Phone: +9108049202224\n",
      "International Phone: +1 (412) 568-3901.\n",
      "Raise a query: https://cloudxlab.com/reach-us-queries\n",
      "Forum: https://discuss.cloudxlab.com/.\n",
      "Don't be overconfident and don't hallucinate. Ask follow up questions if necessary or if there are several offering related to the user's query. Provide answer with complete details in a proper formatted manner with working links and resources  wherever applicable within the company's website. Never provide wrong links.\n",
      "\n",
      "\n",
      "Use the following pieces of context to answer the user's question.\n",
      "\n",
      "----------------\n",
      "\n",
      "automate daily tasks #### Project 10.    Building a QR Code AI Art Generator  #### Project 11.    Building an image editor to edit images using text ## Apply Now ###  Certification Guideline  You will be required to complete at least 80% of the course content and any 3 of the mandatory projects within 90 days of Class Commencement to be eligible for the certificate. All the above requirements need to be met within the deadline of the course to be eligible for the certificate from CloudxLab.  ###  Prerequisites  Background in basic probability and algorithmic thinking is preferred, although not mandatory. Note that the essentials of Python for machine learning is required for the course but it is provided as complementary with the course.  ###  Scholarships    1.     1. 15% Scholarships are available for students, unemployed, women from STEM background and CloudxLab Alumni\n",
      "\n",
      "## Mentors / Faculty #### Sandeep Giri Founder at CloudxLab Past: Amazon, InMobi, D.E.Shaw [__](https://www.linkedin.com/in/girisandeep/)[ ](/p/sandeep-giri-b4v1r1v6/) #### Venkat Karun Staff Software Engineer Google [__](https://www.linkedin.com/in/venkat-karun-137b8515/) #### Shubh Tripathi ML Engineer at ClodudxLab [__](https://www.linkedin.com/in/shubh--tripathi/) ## Curriculum ####  1\\. Python for Generative AI (Self-paced)      1\\. Introduction to Python  Preview  2\\. Hands-on using Jupyter on CloudxLab 2\\. Machine Learning Applications & Landscape (Self-paced)      1\\. Introduction to Machine Learning 2\\. Machine Learning Application 3\\. Types of Machine Learning algorithms - Supervised, Unsupervised 3\\. Building end-to-end Machine Learning Project      1\\. Frame the problem and look at the big picture 2\\. Get the data 3\\. Explore the data to gain insights 4\\. Prepare the data for Machine Learning algorithms 5\\. Explore many different models and short-list the best ones 6\\. Present the solution, Launch, monitor, and maintain the system 4\\. How does a Machine Learn?      1\\. Introduction to Neural Networks 2\\. Working of Neural Networks 5\\. Introduction to Natural Language Processing      1\\. How model generates word 2\\. Applications of Natural Language Processing 6\\. Word Embeddings      1\\. How machines represent words? 2\\. Significance of embeddings 3\\. Similarity measures of embeddings 4\\. Sentiment Analysis with LLMs – Live Project 7\\. Generative Pre-trained Transformer(GPT)      1\\. Attention Mechanism 2\\. Transformer Architecture and components 3\\. Transfer Learning 4\\. Building your own GPT from scratch using Tensorflow – Live Project 8\\. OpenAI ChatGPT      1\\. Introduction to ChatGPT 2\\. ChatGPT Architecture and Training 9\\. Prompt Engineering      1\\. Art of Prompt Engineering 10\\. Vector Databases      1\\. Introduction to Vector Databases 2\\. Architecture of Vector Databases 3\\. Indexing Techniques 4\\. Distance Metrics and Similarity Measures 5\\. Nearest Neighbor Search 6\\. Open Source Vector\n",
      "\n",
      "## Programming Languages and Tools #### and more! ## Hands-on Learning   * ##### Gamified Learning Platform Making learning fun and sustainable    \n",
      "  * ##### Auto-assessment Tests Learn by writing code and executing it on lab   \n",
      "  * ##### No Installation Required Lab comes pre-installed softwares and accessible everywhere   \n",
      "  * ##### Accessibility Access the lab anywhere, anytime with an internet connection\n",
      "\n",
      "* [ Contact Us ](/reach-us-queries)\n",
      "  * [ Privacy Policy ](/privacy-policy)\n",
      "  * [ Terms of Use ](/terms-of-use)\n",
      "  * [ Cookie Policy ](/cookie-policy)\n",
      "#####  Partner With Us   * [ Become an Affiliate ](/affiliate/program)\n",
      "  * [ Use CloudxLab as an Instructor ](/become-instructor/)\n",
      "  * [ Schedule A Demo ](/schedule-demo)\n",
      "  * [ Refer a friend ](/refer-friend/)\n",
      "#####  Learn   * [ Guided Projects ](/projects)\n",
      "  * [ Courses ](/course/all/)\n",
      "  * [ Lab ](/lab/)\n",
      "  * [ Events ]()\n",
      "  * [ BootML ](/bootml/)\n",
      "#####  Jobs   * [ Current Jobs ](/jobs/)\n",
      "  * [ Post a Job ](/reach-us-queries?mid=pj)\n",
      "#####  Resources   * [ Forum ](https://discuss.cloudxlab.com)\n",
      "  * [ Blog ](//cloudxlab.com/blog/)\n",
      "  * [ Tech FAQs ](/faq/support)\n",
      "#####  For Businesses   * [ Consulting ](/business#contact)\n",
      "  * [ Cloud Platform ](/business#demo)\n",
      "  * [ LMS Integration ](/business#about)\n",
      "All rights reserved © 2024 CloudxLab, Inc. | Issimo Technology Private Limited    * [ __](https://twitter.com/CloudxLab)   * [ __](https://www.facebook.com/cloudxlab)   * [ __](https://www.youtube.com/channel/UC8mJ6DL1Q32UWyJUceoO8Jw)   * [ __](https://www.instagram.com/cloudxlab)   * [ __](https://www.linkedin.com/company/cloudxlab/)\n",
      "__ [ __](https://api.whatsapp.com/send?phone=918049202224&text=Hello, Can i have a chat with counsellor?)\n",
      "\n",
      "Follow up question: \n",
      "Human: What are the prerequisites of this course?\n",
      "Helpful Answer:\u001b[0m\n",
      "\n",
      "\u001b[1m> Finished chain.\u001b[0m\n",
      "\n",
      "\u001b[1m> Finished chain.\u001b[0m\n",
      "Answer: The prerequisites for this course are a background in basic probability and algorithmic thinking. However, it is not mandatory as the essentials of Python for machine learning are provided as complementary with the course. So, even if you don't have a strong background in these areas, you can still enroll in the course and learn the necessary skills. CloudxLab provides comprehensive learning materials and resources to help you grasp the concepts and excel in the course.\n"
     ]
    }
   ],
   "source": [
    "# Get response\n",
    "\n",
    "response = get_response(\"What are the prerequisites of this course?\", organization_name, organization_info, contact_info)\n",
    "print(\"Answer:\", response)\n"
   ]
  },
  {
   "cell_type": "code",
   "execution_count": null,
   "metadata": {},
   "outputs": [],
   "source": []
  }
 ],
 "metadata": {
  "kernelspec": {
   "display_name": "venv",
   "language": "python",
   "name": "python3"
  },
  "language_info": {
   "codemirror_mode": {
    "name": "ipython",
    "version": 3
   },
   "file_extension": ".py",
   "mimetype": "text/x-python",
   "name": "python",
   "nbconvert_exporter": "python",
   "pygments_lexer": "ipython3",
   "version": "3.13.1"
  }
 },
 "nbformat": 4,
 "nbformat_minor": 2
}
